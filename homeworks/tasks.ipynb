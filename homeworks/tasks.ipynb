{
 "cells": [
  {
   "cell_type": "markdown",
   "metadata": {},
   "source": [
    "### Васаулюа Брюнотт Тази -- М81"
   ]
  },
  {
   "cell_type": "code",
   "execution_count": 15,
   "metadata": {},
   "outputs": [],
   "source": [
    "import sys\n",
    "import cv2\n",
    "import numpy as np"
   ]
  },
  {
   "cell_type": "markdown",
   "metadata": {},
   "source": [
    "1. Найти все orb features точки на изображении"
   ]
  },
  {
   "cell_type": "code",
   "execution_count": 5,
   "metadata": {},
   "outputs": [
    {
     "name": "stdout",
     "output_type": "stream",
     "text": [
      "Image file read successfully.\n",
      "Output image saved to result1.jpg\n"
     ]
    }
   ],
   "source": [
    "# Read the image file\n",
    "img = cv2.imread(r\"D:\\University\\Sem1\\Computer vision\\Computer-vision-course\\homeworks\\pic.jpeg\")\n",
    "\n",
    "# Check if the image file was read successfully\n",
    "if img is None:\n",
    "    print(\"Error: Unable to read image file.\")\n",
    "else:\n",
    "    print(\"Image file read successfully.\")\n",
    "\n",
    "    # Convert the image to grayscale\n",
    "    gray = cv2.cvtColor(img, cv2.COLOR_BGR2GRAY)\n",
    "\n",
    "    # Create an ORB detector\n",
    "    orb = cv2.ORB_create()\n",
    "\n",
    "    # Detect keypoints\n",
    "    keypoints = orb.detect(gray, None)\n",
    "\n",
    "    # Draw keypoints on the original image\n",
    "    img_drawn = cv2.drawKeypoints(img, keypoints, None, (0, 255, 0), 4)\n",
    "\n",
    "    # Save the output image to a file\n",
    "    cv2.imwrite(\"result1.jpg\", img_drawn)\n",
    "\n",
    "    print(\"Output image saved to result1.jpg\")"
   ]
  },
  {
   "cell_type": "markdown",
   "metadata": {},
   "source": [
    "2. Найти все sift features точки на изображении"
   ]
  },
  {
   "cell_type": "code",
   "execution_count": 6,
   "metadata": {},
   "outputs": [
    {
     "name": "stdout",
     "output_type": "stream",
     "text": [
      "Image file read successfully.\n",
      "Output image saved to result2.jpg\n",
      "Количество SIFT-признаков: 3829\n"
     ]
    }
   ],
   "source": [
    "# Загрузите изображение\n",
    "img = cv2.imread(r\"D:\\University\\Sem1\\Computer vision\\Computer-vision-course\\homeworks\\pic.jpeg\")\n",
    "\n",
    "if img is None:\n",
    "    print(\"Error: Unable to read image file.\")\n",
    "else:\n",
    "    print(\"Image file read successfully.\")\n",
    "\n",
    "# Преобразуйте изображение в grayscale\n",
    "gray = cv2.cvtColor(img, cv2.COLOR_BGR2GRAY)\n",
    "\n",
    "# Создайте SIFT-детектор\n",
    "sift = cv2.SIFT_create()\n",
    "\n",
    "# Найдите ключевые точки (SIFT-признаки) на изображении\n",
    "keypoints = sift.detect(gray, None)\n",
    "\n",
    "# Нарисуйте ключевые точки на изображении\n",
    "img_keypoints = cv2.drawKeypoints(img, keypoints, None, (0, 255, 0), 4)\n",
    "\n",
    "\n",
    "# Save the output image to a file\n",
    "cv2.imwrite(\"result2.jpg\", img_keypoints)\n",
    "\n",
    "print(\"Output image saved to result2.jpg\")\n",
    "\n",
    "# # Выведите изображение с ключевыми точками\n",
    "# cv2.imshow('SIFT-признаки', img_keypoints)\n",
    "# cv2.waitKey(0)\n",
    "# cv2.destroyAllWindows()\n",
    "\n",
    "# Выведите количество найденных ключевых точек\n",
    "print('Количество SIFT-признаков:', len(keypoints))"
   ]
  },
  {
   "cell_type": "markdown",
   "metadata": {},
   "source": [
    "3. Найти canny edges на изображенни"
   ]
  },
  {
   "cell_type": "code",
   "execution_count": 7,
   "metadata": {},
   "outputs": [
    {
     "name": "stdout",
     "output_type": "stream",
     "text": [
      "Image file read successfully.\n",
      "Output image saved to result3.jpg\n"
     ]
    }
   ],
   "source": [
    "\n",
    "# Загрузите изображение\n",
    "img = cv2.imread(r\"D:\\University\\Sem1\\Computer vision\\Computer-vision-course\\homeworks\\pic.jpeg\")\n",
    "\n",
    "# Check if the image file was read successfully\n",
    "if img is None:\n",
    "    print(\"Error: Unable to read image file.\")\n",
    "else:\n",
    "    print(\"Image file read successfully.\")\n",
    "\n",
    "# Преобразуйте изображение в grayscale\n",
    "gray = cv2.cvtColor(img, cv2.COLOR_BGR2GRAY)\n",
    "\n",
    "# Найдите Canny edges на изображении\n",
    "edges = cv2.Canny(gray, 50, 150)\n",
    "\n",
    "# # Выведите изображение с Canny edges\n",
    "# cv2.imshow('Canny Edges', edges)\n",
    "# cv2.waitKey(0)\n",
    "# cv2.destroyAllWindows()\n",
    "# Save the output image to a file\n",
    "\n",
    "cv2.imwrite(\"result3.jpg\", edges)\n",
    "\n",
    "print(\"Output image saved to result3.jpg\")\n"
   ]
  },
  {
   "cell_type": "markdown",
   "metadata": {},
   "source": [
    "4. Перевести изображение в grayscale"
   ]
  },
  {
   "cell_type": "code",
   "execution_count": 8,
   "metadata": {},
   "outputs": [
    {
     "name": "stdout",
     "output_type": "stream",
     "text": [
      "Image file read successfully.\n",
      "Output image saved to result4.jpg\n"
     ]
    }
   ],
   "source": [
    "# camera = cv2.VideoCapture(0)\n",
    "# result, image = camera.read()\n",
    "\n",
    "# if result:\n",
    "#     grayImage = cv2.cvtColor(image, cv2.COLOR_BGR2GRAY)\n",
    "\n",
    "#     cv2.imwrite('camera.jpg', image)\n",
    "#     cv2.imwrite('result.jpg', grayImage)\n",
    "\n",
    "#     cv2.imshow('Camera', image)       \n",
    "#     cv2.imshow('Gray image', grayImage)\n",
    "\n",
    "#     cv2.waitKey(0)\n",
    "#     cv2.destroyAllWindows()\n",
    "\n",
    "# else:\n",
    "#     print('No image detected.')\n",
    "\n",
    "\n",
    "# Загрузите изображение\n",
    "img = cv2.imread(r\"D:\\University\\Sem1\\Computer vision\\Computer-vision-course\\homeworks\\pic.jpeg\")\n",
    "\n",
    "# Check if the image file was read successfully\n",
    "if img is None:\n",
    "    print(\"Error: Unable to read image file.\")\n",
    "else:\n",
    "    print(\"Image file read successfully.\")\n",
    "\n",
    "# Преобразуйте изображение в grayscale\n",
    "gray = cv2.cvtColor(img, cv2.COLOR_BGR2GRAY)\n",
    "\n",
    "# # Выведите grayscale-изображение\n",
    "# cv2.imshow('Grayscale', gray)\n",
    "# cv2.waitKey(0)\n",
    "# cv2.destroyAllWindows()\n",
    "\n",
    "# Save the output image to a file\n",
    "cv2.imwrite(\"result4.jpg\", gray)\n",
    "\n",
    "print(\"Output image saved to result4.jpg\")\n"
   ]
  },
  {
   "cell_type": "markdown",
   "metadata": {},
   "source": [
    "5. Перевести изображение в hsv"
   ]
  },
  {
   "cell_type": "code",
   "execution_count": 9,
   "metadata": {},
   "outputs": [
    {
     "name": "stdout",
     "output_type": "stream",
     "text": [
      "Image file read successfully.\n",
      "Output image saved to result5.jpg\n"
     ]
    }
   ],
   "source": [
    "# Загрузите изображение\n",
    "img = cv2.imread(r\"D:\\University\\Sem1\\Computer vision\\Computer-vision-course\\homeworks\\pic.jpeg\")\n",
    "\n",
    "# Check if the image file was read successfully\n",
    "if img is None:\n",
    "    print(\"Error: Unable to read image file.\")\n",
    "else:\n",
    "    print(\"Image file read successfully.\")\n",
    "\n",
    "# Преобразуйте изображение в HSV\n",
    "hsv = cv2.cvtColor(img, cv2.COLOR_BGR2HSV)\n",
    "\n",
    "# # Выведите HSV-изображение\n",
    "# cv2.imshow('HSV', hsv)\n",
    "# cv2.waitKey(0)\n",
    "# cv2.destroyAllWindows()\n",
    "\n",
    "# Save the output image to a file\n",
    "cv2.imwrite(\"result5.jpg\", hsv)\n",
    "\n",
    "print(\"Output image saved to result5.jpg\")\n"
   ]
  },
  {
   "cell_type": "markdown",
   "metadata": {},
   "source": [
    "6. Отразить изображение по правой границе"
   ]
  },
  {
   "cell_type": "code",
   "execution_count": 10,
   "metadata": {},
   "outputs": [
    {
     "name": "stdout",
     "output_type": "stream",
     "text": [
      "Image file read successfully.\n",
      "Output image saved to result6.jpg\n"
     ]
    }
   ],
   "source": [
    "# Загрузите изображение\n",
    "img = cv2.imread(r\"D:\\University\\Sem1\\Computer vision\\Computer-vision-course\\homeworks\\pic.jpeg\")\n",
    "\n",
    "# Check if the image file was read successfully\n",
    "if img is None:\n",
    "    print(\"Error: Unable to read image file.\")\n",
    "else:\n",
    "    print(\"Image file read successfully.\")\n",
    "\n",
    "# Отразите изображение по правой границе\n",
    "flipped_img = cv2.flip(img, 1)\n",
    "\n",
    "# # Выведите отраженное изображение\n",
    "# cv2.imshow('Flipped Image', flipped_img)\n",
    "# cv2.waitKey(0)\n",
    "# cv2.destroyAllWindows()\n",
    "# Save the output image to a file\n",
    "\n",
    "cv2.imwrite(\"result6.jpg\", flipped_img)\n",
    "\n",
    "print(\"Output image saved to result6.jpg\")\n"
   ]
  },
  {
   "cell_type": "markdown",
   "metadata": {},
   "source": [
    "7. Отразить изображение по нижней границе"
   ]
  },
  {
   "cell_type": "code",
   "execution_count": 11,
   "metadata": {},
   "outputs": [
    {
     "name": "stdout",
     "output_type": "stream",
     "text": [
      "Image file read successfully.\n",
      "Output image saved to result7.jpg\n"
     ]
    }
   ],
   "source": [
    "# Загрузите изображение\n",
    "img = cv2.imread(r\"D:\\University\\Sem1\\Computer vision\\Computer-vision-course\\homeworks\\pic.jpeg\")\n",
    "\n",
    "# Check if the image file was read successfully\n",
    "if img is None:\n",
    "    print(\"Error: Unable to read image file.\")\n",
    "else:\n",
    "    print(\"Image file read successfully.\")\n",
    "\n",
    "# Отразите изображение по нижней границе\n",
    "flipped_img = cv2.flip(img, 0)\n",
    "\n",
    "# # Выведите отраженное изображение\n",
    "# cv2.imshow('Flipped Image', flipped_img)\n",
    "# cv2.waitKey(0)\n",
    "# cv2.destroyAllWindows()\n",
    "cv2.imwrite(\"result7.jpg\", flipped_img)\n",
    "\n",
    "print(\"Output image saved to result7.jpg\")"
   ]
  },
  {
   "cell_type": "markdown",
   "metadata": {},
   "source": [
    "8. Повернуть изображение на 45 градусов"
   ]
  },
  {
   "cell_type": "code",
   "execution_count": 12,
   "metadata": {},
   "outputs": [
    {
     "name": "stdout",
     "output_type": "stream",
     "text": [
      "Image file read successfully.\n",
      "Output image saved to result8.jpg\n"
     ]
    }
   ],
   "source": [
    "# Загрузите изображение\n",
    "img = cv2.imread(r\"D:\\University\\Sem1\\Computer vision\\Computer-vision-course\\homeworks\\pic.jpeg\")\n",
    "\n",
    "# Check if the image file was read successfully\n",
    "if img is None:\n",
    "    print(\"Error: Unable to read image file.\")\n",
    "else:\n",
    "    print(\"Image file read successfully.\")\n",
    "\n",
    "# Определите матрицу поворота\n",
    "(h, w) = img.shape[:2]\n",
    "center = (w // 2, h // 2)\n",
    "M = cv2.getRotationMatrix2D(center, 45, 1.0)\n",
    "\n",
    "# Поверните изображение\n",
    "rotated_img = cv2.warpAffine(img, M, (w, h))\n",
    "\n",
    "# # Выведите повернутое изображение\n",
    "# cv2.imshow('Rotated Image', rotated_img)\n",
    "# cv2.waitKey(0)\n",
    "# cv2.destroyAllWindows()\n",
    "\n",
    "cv2.imwrite(\"result8.jpg\", rotated_img)\n",
    "\n",
    "print(\"Output image saved to result8.jpg\")"
   ]
  },
  {
   "cell_type": "markdown",
   "metadata": {},
   "source": [
    "9. Повернуть изображение на 30 градусов вокруг заданной точки"
   ]
  },
  {
   "cell_type": "code",
   "execution_count": 13,
   "metadata": {},
   "outputs": [
    {
     "name": "stdout",
     "output_type": "stream",
     "text": [
      "Image file read successfully.\n",
      "Output image saved to result9.jpg\n"
     ]
    }
   ],
   "source": [
    "# Загрузите изображение\n",
    "img = cv2.imread(r\"D:\\University\\Sem1\\Computer vision\\Computer-vision-course\\homeworks\\pic.jpeg\")\n",
    "\n",
    "# Check if the image file was read successfully\n",
    "if img is None:\n",
    "    print(\"Error: Unable to read image file.\")\n",
    "else:\n",
    "    print(\"Image file read successfully.\")\n",
    "\n",
    "# Определите точку поворота\n",
    "center_x, center_y = 100, 100  # задайте координаты точки поворота\n",
    "\n",
    "# Определите матрицу поворота\n",
    "(h, w) = img.shape[:2]\n",
    "M = cv2.getRotationMatrix2D((center_x, center_y), 30, 1.0)\n",
    "\n",
    "# Поверните изображение\n",
    "rotated_img = cv2.warpAffine(img, M, (w, h))\n",
    "\n",
    "# # Выведите повернутое изображение\n",
    "# cv2.imshow('Rotated Image', rotated_img)\n",
    "# cv2.waitKey(0)\n",
    "# cv2.destroyAllWindows()\n",
    "\n",
    "cv2.imwrite(\"result9.jpg\", rotated_img)\n",
    "\n",
    "print(\"Output image saved to result9.jpg\")"
   ]
  },
  {
   "cell_type": "markdown",
   "metadata": {},
   "source": [
    "10. Сместить изображение на 10 пикселей вправо"
   ]
  },
  {
   "cell_type": "code",
   "execution_count": null,
   "metadata": {},
   "outputs": [
    {
     "name": "stdout",
     "output_type": "stream",
     "text": [
      "Image file read successfully.\n",
      "Output image saved toresult10.jpg\n"
     ]
    }
   ],
   "source": [
    "# Загрузите изображение\n",
    "img = cv2.imread(r\"D:\\University\\Sem1\\Computer vision\\Computer-vision-course\\homeworks\\pic.jpeg\")\n",
    "\n",
    "# Check if the image file was read successfully\n",
    "if img is None:\n",
    "    print(\"Error: Unable to read image file.\")\n",
    "else:\n",
    "    print(\"Image file read successfully.\")\n",
    "\n",
    "# Определите матрицу смещения\n",
    "M = np.float32([[1, 0, 10], [0, 1, 0]])\n",
    "\n",
    "# Сместите изображение\n",
    "shifted_img = cv2.warpAffine(img, M, (img.shape[1], img.shape[0]))\n",
    "\n",
    "# # Выведите смещенное изображение\n",
    "# cv2.imshow('Shifted Image', shifted_img)\n",
    "# cv2.waitKey(0)\n",
    "# cv2.destroyAllWindows()\n",
    "\n",
    "cv2.imwrite(\"result10.jpg\", shifted_img)\n",
    "\n",
    "print(\"Output image saved to result10.jpg\")"
   ]
  }
 ],
 "metadata": {
  "kernelspec": {
   "display_name": "Python 3",
   "language": "python",
   "name": "python3"
  },
  "language_info": {
   "codemirror_mode": {
    "name": "ipython",
    "version": 3
   },
   "file_extension": ".py",
   "mimetype": "text/x-python",
   "name": "python",
   "nbconvert_exporter": "python",
   "pygments_lexer": "ipython3",
   "version": "3.12.6"
  }
 },
 "nbformat": 4,
 "nbformat_minor": 2
}
